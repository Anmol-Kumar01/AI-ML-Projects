{
 "cells": [
  {
   "cell_type": "markdown",
   "metadata": {},
   "source": [
    "                Tic-Tac -Toe\n",
    "\n",
    "         Using  Reinforcement Learning Algorithm"
   ]
  },
  {
   "cell_type": "code",
   "execution_count": 99,
   "metadata": {},
   "outputs": [],
   "source": [
    "import json"
   ]
  },
  {
   "cell_type": "code",
   "execution_count": 83,
   "metadata": {},
   "outputs": [
    {
     "name": "stdout",
     "output_type": "stream",
     "text": [
      "-------------------\n",
      "|  N  |  N  |  N  |\n",
      "-------------------\n",
      "|  N  |  N  |  N  |\n",
      "-------------------\n",
      "|  N  |  N  |  N  |\n",
      "-------------------\n"
     ]
    }
   ],
   "source": [
    "def game_board(state):\n",
    "    \"\"\"\n",
    "    Displays the Tic-Tac-Toe game board based on the provided state.\n",
    "\n",
    "    Parameters:state (str): A string representing the current state of the game board.\n",
    "    Preconditions: The state should be a string of length 9, where each\n",
    "                    character represents a cell in the Tic-Tac-Toe grid.\n",
    "                    Valid characters include 'X', 'O', or '-' for an empty cell.\n",
    "    \"\"\"\n",
    "    print('-------------------')\n",
    "    print('| ', state[0], ' | ', state[1], ' | ', state[2], ' |')\n",
    "    print('-------------------')\n",
    "    print('| ', state[3], ' | ', state[4], ' | ', state[5], ' |')\n",
    "    print('-------------------')\n",
    "    print('| ', state[6], ' | ', state[7], ' | ', state[8], ' |')\n",
    "    print('-------------------')\n",
    "\n",
    "game_board('NNNNNNNNN')\n"
   ]
  },
  {
   "cell_type": "code",
   "execution_count": 84,
   "metadata": {},
   "outputs": [
    {
     "name": "stdout",
     "output_type": "stream",
     "text": [
      "O----X---\n"
     ]
    }
   ],
   "source": [
    "def state_maker(initial_state, pos, player):\n",
    "    \"\"\"\n",
    "    Creates a new state by placing the specified player's symbol at the given position.\n",
    "\n",
    "    Parameters:\n",
    "    \n",
    "    initial_state (str): The initial state of the Tic-Tac-Toe game board.\n",
    "    Preconditions:  Should be a string of length 9, where each character represents\n",
    "     a cell in the Tic-Tac-Toe grid. Valid characters include 'X','O', or '-' for an empty cell.\n",
    "     \n",
    "    pos (int):    The position where the player's symbol will be placed.\n",
    "    Preconditions: Should be an integer between 0 and 8, inclusive, representing\n",
    "                    a valid position on the Tic-Tac-Toe grid.\n",
    "\n",
    "    player (str): The player's symbol ('X' or 'O') to be placed at the specified position.\n",
    "    Preconditions: Should be a valid player symbol ('X' or 'O').\n",
    "\n",
    "    Returns:\n",
    "        str: The new state of the Tic-Tac-Toe game board after the player's move.\n",
    "    \"\"\"\n",
    "    state = \"\"\n",
    "    for i, cell in enumerate(initial_state):\n",
    "        if cell != 'X' and cell != 'O' and i == pos:\n",
    "            state += player\n",
    "        else:\n",
    "            state += cell\n",
    "\n",
    "    return state\n",
    "\n",
    "print(state_maker('O--------', 5, 'X'))\n"
   ]
  },
  {
   "cell_type": "code",
   "execution_count": 85,
   "metadata": {},
   "outputs": [],
   "source": [
    "# Terminal state of the game\n",
    "\n",
    "def Terminal(state):\n",
    "    \"\"\"\n",
    "    Determines the terminal state of the Tic-Tac-Toe game.\n",
    "\n",
    "    Parameters:\n",
    "    state (str): The current state of the Tic-Tac-Toe game board.\n",
    "    Preconditions: Should be a string of length 9, where each character represents\n",
    "    a cell in the Tic-Tac-Toe grid. Valid characters include 'X','O', or 'N' for an empty cell.\n",
    "\n",
    "    Returns:\n",
    "        tuple: A tuple containing two values:\n",
    "               The first value (bool) indicates whether the game is in a terminal state.\n",
    "                The second value (int) represents the score:\n",
    "                1 if 'O' wins, 1 if 'X' win, 0 if the game is a draw or still ongoing\n",
    "    \"\"\"\n",
    "    if state[0] == state[1] == state[2] == 'O':\n",
    "        return (True, 1)\n",
    "    elif state[3] == state[4] == state[5] == 'O':\n",
    "        return (True, 1)\n",
    "    elif state[6] == state[7] == state[8] == 'O':\n",
    "        return (True, 1)\n",
    "    elif state[0] == state[3] == state[6] == 'O':\n",
    "        return (True, 1)\n",
    "    elif state[1] == state[4] == state[7] == 'O':\n",
    "        return (True, 1)\n",
    "    elif state[2] == state[5] == state[8] == 'O':\n",
    "        return (True, 1)\n",
    "    elif state[0] == state[4] == state[8] == 'O':\n",
    "        return (True, 1)\n",
    "    elif state[2] == state[4] == state[6] == 'O':\n",
    "        return (True, 1)\n",
    "        \n",
    "    elif state[0] == state[1] == state[2] == 'X':\n",
    "        return (True, -1)\n",
    "    elif state[3] == state[4] == state[5] == 'X':\n",
    "        return (True, -1)\n",
    "    elif state[6] == state[7] == state[8] == 'X':\n",
    "        return (True, -1)\n",
    "    elif state[0] == state[3] == state[6] == 'X':\n",
    "        return (True, -1)\n",
    "    elif state[1] == state[4] == state[7] == 'X':\n",
    "        return (True, -1)    \n",
    "    elif state[2] == state[5] == state[8] == 'X':\n",
    "        return (True, -1)\n",
    "    elif state[0] == state[4] == state[8] == 'X':\n",
    "        return (True, -1)\n",
    "    elif state[2] == state[4] == state[6] == 'X':\n",
    "        return (True, -1)\n",
    "    \n",
    "    for cell in state:\n",
    "        if cell == 'N':\n",
    "            return (False, 0)\n",
    "        \n",
    "    return (True, 0)\n"
   ]
  },
  {
   "cell_type": "code",
   "execution_count": 86,
   "metadata": {},
   "outputs": [],
   "source": [
    "def Is_Terminal(state):\n",
    "    \"\"\"\n",
    "    Checks if the Tic-Tac-Toe game has reached a terminal state.\n",
    "\n",
    "    Parameters:\n",
    "    state (str): The current state of the Tic-Tac-Toe game board.\n",
    "    Preconditions: Should be a string of length 9, where each character represents\n",
    "    a cell in the Tic-Tac-Toe grid. Valid characters include 'X', 'O', or 'N' for an empty cell.\n",
    "\n",
    "    Returns:\n",
    "        bool: True if the game is in a terminal state, False otherwise.\n",
    "    \"\"\"\n",
    "    return Terminal(state)[0]\n"
   ]
  },
  {
   "cell_type": "code",
   "execution_count": 87,
   "metadata": {},
   "outputs": [],
   "source": [
    "def game_score(state):\n",
    "    \"\"\"\n",
    "    Returns:\n",
    "        int: The score of the game, where:\n",
    "        1 indicates 'O' wins\n",
    "        1 indicates 'X' wins\n",
    "        0 indicates a draw or the game is still ongoing\n",
    "\n",
    "    Parameters:\n",
    "    state (str): The current state of the Tic-Tac-Toe game board.\n",
    "    Preconditions: Should be a string of length 9, where each character represents\n",
    "    a cell in the Tic-Tac-Toe grid. Valid characters include 'X', 'O', or 'N' for an empty cell.\n",
    "    \"\"\"\n",
    "    return Terminal(state)[1]\n"
   ]
  },
  {
   "cell_type": "code",
   "execution_count": 88,
   "metadata": {},
   "outputs": [],
   "source": [
    "with open('rl_game_tree.json', 'r') as file:\n",
    "    tree = json.load(file)"
   ]
  },
  {
   "cell_type": "code",
   "execution_count": 89,
   "metadata": {},
   "outputs": [],
   "source": [
    "tree2 = {}"
   ]
  },
  {
   "cell_type": "code",
   "execution_count": 90,
   "metadata": {},
   "outputs": [],
   "source": [
    "# Iterate through each item in the original tree\n",
    "for i, v in tree.items():\n",
    "    # Check if the state is in a terminal state\n",
    "    if Is_Terminal(i):\n",
    "        # If terminal, add the state and its corresponding value to the new tree\n",
    "        tree2[i] = v\n",
    "    else:\n",
    "        # If not terminal, set the value to 0 in the new tree\n",
    "        tree2[i] = 0\n"
   ]
  },
  {
   "cell_type": "code",
   "execution_count": 91,
   "metadata": {},
   "outputs": [],
   "source": [
    "lst = []\n",
    "\n",
    "# Iterate through each item in the tree and append it as a tuple to the list\n",
    "for i, j in tree.items():\n",
    "    lst.append((i, j))\n"
   ]
  },
  {
   "cell_type": "code",
   "execution_count": 92,
   "metadata": {},
   "outputs": [],
   "source": [
    "alpha = 0.42 # Learning Rate "
   ]
  },
  {
   "cell_type": "code",
   "execution_count": 93,
   "metadata": {},
   "outputs": [],
   "source": [
    "def learning_function(initial_state, player, value):\n",
    "    \"\"\"\n",
    "    Implements a learning function to update the values in the Tic-Tac-Toe game tree.\n",
    "\n",
    "    Parameters:\n",
    "    \n",
    "    initial_state (str): The initial state of the Tic-Tac-Toe game board.\n",
    "    Preconditions: Should be a string of length 9, where each character represents\n",
    "    a cell in the Tic-Tac-Toe grid. Valid characters include 'X', 'O', or 'N' for an empty cell.\n",
    "\n",
    "    player (str): The current player's symbol ('X' or 'O') whose move is being considered.\n",
    "    Preconditions: Should be a valid player symbol ('X' or 'O').\n",
    "\n",
    "    value (int): The value to update in the game tree.\n",
    "    Precondition : value should be valid \n",
    "    \n",
    "    \"\"\"\n",
    "    for i, cell in enumerate(initial_state):\n",
    "        if cell == 'N':\n",
    "            next_state = state_maker(initial_state, i, player)\n",
    "\n",
    "            if next_state not in tree:\n",
    "                tree[next_state] = value\n",
    "\n",
    "            if Is_Terminal(next_state):\n",
    "                tree[next_state] = game_score(next_state)\n",
    "                tree[initial_state] = tree[initial_state] + alpha * (tree[next_state] - tree[initial_state])\n",
    "                return\n",
    "\n",
    "            tree[initial_state] = tree[initial_state] + alpha * (tree[next_state] - tree[initial_state])\n",
    "            return learning_function(next_state, 'O' if player == 'X' else 'X', tree[next_state])\n"
   ]
  },
  {
   "cell_type": "code",
   "execution_count": 94,
   "metadata": {},
   "outputs": [],
   "source": [
    "# No. of iterations for used to assign the value for each state \n",
    "\n",
    "for i in range(500):\n",
    "    for state, value in lst:\n",
    "        learning_function(state, 'O', value)"
   ]
  },
  {
   "cell_type": "code",
   "execution_count": 95,
   "metadata": {},
   "outputs": [],
   "source": [
    "def player_turn(state, index, player):\n",
    "    \"\"\"\n",
    "    Generates a new state after a player's move in the Tic-Tac-Toe game.\n",
    "\n",
    "    Parameters:\n",
    "    \n",
    "    state (str): The current state of the Tic-Tac-Toe game board.\n",
    "    Preconditions: Should be a string of length 9, where each character represents\n",
    "    a cell in the Tic-Tac-Toe grid. Valid characters include 'X', 'O', or '-' for an empty cell.\n",
    "    \n",
    "    index (int): The position where the player's symbol will be placed.\n",
    "    Preconditions: Should be an integer between 0 and 8, inclusive, representing\n",
    "    a valid position on the Tic-Tac-Toe grid.\n",
    "\n",
    "    player (str): The player's symbol ('X' or 'O') to be placed at the specified position.\n",
    "    Preconditions: Should be a valid player symbol ('X' or 'O').\n",
    "\n",
    "    Returns:\n",
    "        str: The new state of the Tic-Tac-Toe game board after the player's move.\n",
    "    \"\"\"\n",
    "    new_state = state_maker(state, index, player)\n",
    "    return new_state\n"
   ]
  },
  {
   "cell_type": "code",
   "execution_count": 96,
   "metadata": {},
   "outputs": [],
   "source": [
    "\n",
    "def computer_turn(state, player):\n",
    "    \"\"\"\n",
    "    Determines the computer's optimal move in the Tic-Tac-Toe game.\n",
    "\n",
    "    Parameters:\n",
    "    \n",
    "    state (str): The current state of the Tic-Tac-Toe game board.\n",
    "    Preconditions: Should be a string of length 9, where each character represents\n",
    "    a cell in the Tic-Tac-Toe grid. Valid characters include 'X', 'O', or 'N' for an empty cell.\n",
    "\n",
    "    player (str): The computer's symbol ('X' or 'O').\n",
    "    Preconditions: Should be a valid player symbol ('X' or 'O').\n",
    "\n",
    "    Returns:\n",
    "        str: The new state of the Tic-Tac-Toe game board after the computer's optimal move.\n",
    "    \"\"\"\n",
    "    best_move_list = []\n",
    "    best_move = state\n",
    "\n",
    "    for i, cell in enumerate(state):\n",
    "        if cell == 'N':\n",
    "            state1 = state_maker(state, i, player)\n",
    "            best_move_list.append(state1)\n",
    "\n",
    "    max_score = float('inf')\n",
    "    for move in best_move_list:\n",
    "        if move in parent:\n",
    "            if max_score > parent[move]:\n",
    "                max_score = parent[move]\n",
    "                best_move = move\n",
    "\n",
    "    return best_move\n"
   ]
  },
  {
   "cell_type": "code",
   "execution_count": 97,
   "metadata": {},
   "outputs": [],
   "source": [
    "parent = tree "
   ]
  },
  {
   "cell_type": "code",
   "execution_count": 98,
   "metadata": {},
   "outputs": [
    {
     "name": "stdout",
     "output_type": "stream",
     "text": [
      "-------------------\n",
      "|  N  |  N  |  N  |\n",
      "-------------------\n",
      "|  N  |  N  |  N  |\n",
      "-------------------\n",
      "|  N  |  N  |  N  |\n",
      "-------------------\n",
      "-------------------\n",
      "|  O  |  N  |  N  |\n",
      "-------------------\n",
      "|  N  |  N  |  N  |\n",
      "-------------------\n",
      "|  N  |  N  |  X  |\n",
      "-------------------\n",
      "-------------------\n",
      "|  O  |  N  |  X  |\n",
      "-------------------\n",
      "|  O  |  N  |  N  |\n",
      "-------------------\n",
      "|  N  |  N  |  X  |\n",
      "-------------------\n",
      "-------------------\n",
      "|  O  |  N  |  X  |\n",
      "-------------------\n",
      "|  O  |  N  |  O  |\n",
      "-------------------\n",
      "|  X  |  N  |  X  |\n",
      "-------------------\n",
      "-------------------\n",
      "|  O  |  N  |  X  |\n",
      "-------------------\n",
      "|  O  |  X  |  O  |\n",
      "-------------------\n",
      "|  X  |  O  |  X  |\n",
      "-------------------\n",
      "Computer wins\n"
     ]
    }
   ],
   "source": [
    "state = \"NNNNNNNNN\"\n",
    "game_board(state)\n",
    "\n",
    "while True:\n",
    "    # Check for terminal state\n",
    "    if Is_Terminal(state):\n",
    "        # Check the result and print the winner or draw\n",
    "        if game_score(state) == 1:\n",
    "            print(\"Player wins\")\n",
    "            break\n",
    "        elif game_score(state) == -1:\n",
    "            print(\"Computer wins\")\n",
    "            break\n",
    "        elif game_score(state) == 0:\n",
    "            print(\"Game Draw\")\n",
    "            break\n",
    "    \n",
    "    # Player's turn\n",
    "    player_index = int(input(\"Enter the index of player's turn: \"))\n",
    "    state = player_turn(state, player_index, \"O\")\n",
    "\n",
    "    # Computer's turn\n",
    "    state = computer_turn(state, \"X\")  \n",
    "    game_board(state)\n"
   ]
  }
 ],
 "metadata": {
  "kernelspec": {
   "display_name": "base",
   "language": "python",
   "name": "python3"
  },
  "language_info": {
   "codemirror_mode": {
    "name": "ipython",
    "version": 3
   },
   "file_extension": ".py",
   "mimetype": "text/x-python",
   "name": "python",
   "nbconvert_exporter": "python",
   "pygments_lexer": "ipython3",
   "version": "3.9.13"
  }
 },
 "nbformat": 4,
 "nbformat_minor": 2
}
